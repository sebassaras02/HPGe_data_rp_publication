{
 "cells": [
  {
   "cell_type": "code",
   "execution_count": 1,
   "metadata": {},
   "outputs": [],
   "source": [
    "# HPGe paper calibration\n",
    "# Done by: Sebastian Sarasti"
   ]
  },
  {
   "cell_type": "code",
   "execution_count": 2,
   "metadata": {},
   "outputs": [],
   "source": [
    "# import modules\n",
    "import numpy as np\n",
    "import matplotlib.pyplot as plt\n",
    "import pandas as pd\n",
    "import radioactivedecay as rd\n",
    "import calendar\n",
    "from d_funciones import tasa, netcount, incertidumbre, area, max_peak, spec_hist, spec_s_act,spec_s_f,gauss_fit,spectrum\n",
    "from datetime import datetime, date, time, timedelta"
   ]
  },
  {
   "cell_type": "code",
   "execution_count": 3,
   "metadata": {},
   "outputs": [],
   "source": [
    "# import experimental data\n",
    "am_e={'0cm':np.loadtxt('./e_results/Am-241/'+'Am241-0cm-CalibracionEficiencias22-10-2019.TKA'),\n",
    "      '5cm':np.loadtxt('./e_results/Am-241/'+'Am241-5cm-CalibracionEficiencias22-10-2019.TKA'),\n",
    "      '10cm':np.loadtxt('./e_results/Am-241/'+'Am241-10cm-CalibracionEficiencias-24-10-2019.TKA'),\n",
    "      '20cm':np.loadtxt('./e_results/Am-241/'+'Am241-20cm-CalibracionEficiencias-23-10-2019.TKA'),\n",
    "      '25cm':np.loadtxt('./e_results/Am-241/'+'Am241-25cm-CalibracionEficiencias-23-10-2019.TKA')\n",
    "      }\n",
    "co_e={'0cm':np.loadtxt('./e_results/Co-60/'+'Co60-0cm-CalibracionEficiencias-15-08-2019.TKA'),\n",
    "      '5cm':np.loadtxt('./e_results/Co-60/'+'Co60-5cm-CalibracionEficiencias-24-10-2019.TKA'),\n",
    "      '10cm':np.loadtxt('./e_results/Co-60/'+'Co60-10cmCalibracionEficiencias22ago2019.TKA'),\n",
    "      '20cm':np.loadtxt('./e_results/Co-60/'+'Co60-20cmCalibracionEficiencias23ago2019.TKA'),\n",
    "      '25cm':np.loadtxt('./e_results/Co-60/'+'Co60-25cmCalibracionEficiencias23ago2019.TKA')\n",
    "      }\n",
    "cs_e={'0cm':np.loadtxt('./e_results/Cs-137/'+'Cs137-0cm-CalibracionEficiencias-15-08-2019.TKA'),\n",
    "      '5cm':np.loadtxt('./e_results/Cs-137/'+'Cs137-5cmcalibracioneficiencia20ago2019.TKA'),\n",
    "      '10cm':np.loadtxt('./e_results/Cs-137/'+'Cs137-10cmCalibracionEficiencia22ago2019.TKA'),\n",
    "      '20cm':np.loadtxt('./e_results/Cs-137/'+'Cs137-20cmCalibracionEficiencias23ago2019.TKA'),\n",
    "      '25cm':np.loadtxt('./e_results/Cs-137/'+'Cs137-25cmCalibracionEficiencias27ago2019.TKA')\n",
    "      }\n",
    "eu_e={'0cm':np.loadtxt('./e_results/Eu-152/'+'Eu152-0cm-CalibracionEficiencias-15-09-2019.TKA'),\n",
    "      '5cm':np.loadtxt('./e_results/Eu-152/'+'Eu152-5cm-CalibracionEficiencias-19-08-2019.TKA'),\n",
    "      '10cm':np.loadtxt('./e_results/Eu-152/'+'Eu152-10cmCalibracionEficiencias22ago2019.TKA'),\n",
    "      '20cm':np.loadtxt('./e_results/Eu-152/'+'Eu152-20cmCalibracionEficiencias23ago2019.TKA'),\n",
    "      '25cm':np.loadtxt('./e_results/Eu-152/'+'Eu152-25cmCalibracionEficiencias27ago2019.TKA')\n",
    "      }"
   ]
  },
  {
   "cell_type": "code",
   "execution_count": 4,
   "metadata": {},
   "outputs": [],
   "source": [
    "# load background radiation\n",
    "bk=np.loadtxt(\"./e_results/\"+'afondo20min07nov2018.TKA')"
   ]
  },
  {
   "cell_type": "code",
   "execution_count": 5,
   "metadata": {},
   "outputs": [],
   "source": [
    "# determination of net rate count spectra\n",
    "# extract the keys of before dictionaries\n",
    "claves=list(eu_e.keys())\n",
    "# create an empty dictionary\n",
    "am_e_n={}\n",
    "cs_e_n={}\n",
    "co_e_n={}\n",
    "eu_e_n={}\n",
    "for clave in claves:\n",
    "    am_e_n[clave]=netcount(am_e[clave],bk)\n",
    "    cs_e_n[clave]=netcount(cs_e[clave],bk)\n",
    "    co_e_n[clave]=netcount(co_e[clave],bk)\n",
    "    eu_e_n[clave]=netcount(eu_e[clave],bk)"
   ]
  },
  {
   "cell_type": "code",
   "execution_count": 6,
   "metadata": {},
   "outputs": [
    {
     "data": {
      "text/plain": "<Figure size 360x360 with 1 Axes>",
      "image/png": "[encoded data removed]"
     },
     "metadata": {
      "needs_background": "light"
     },
     "output_type": "display_data"
    }
   ],
   "source": [
    "# make a linear regression\n",
    "ca=np.array([0,223,457,921,1297,2492,4420,5020])\n",
    "energia=np.array([0,0.0595,0.121,0.244,0.344,0.662,1.17,1.33])#MeV \n",
    "from scipy import stats\n",
    "res = stats.linregress(ca, energia)\n",
    "# save the constants like variables\n",
    "r2=res[2]\n",
    "m_=res[0]\n",
    "b_=res[1]\n",
    "\n",
    "    #%%\n",
    "\n",
    "# plot the linear regresion (channel calibration)\n",
    "textstr = '\\n'.join((\n",
    "    r'$R^2=%.2f$' % (0.99, ),\n",
    "    r'$b=%.5f$' % (b_, ),\n",
    "    r'$m=%.5f$' % (m_, )))\n",
    "fig2=plt.figure(figsize=(5,5))\n",
    "ax=plt.axes()\n",
    "trans_ca=lambda x:res[0]*x+res[1]\n",
    "plt.scatter(ca,energia,color='r',label='Points')\n",
    "plt.plot(ca,trans_ca(ca),color='b',label='Linear Regression')\n",
    "plt.grid()\n",
    "plt.xlabel('Channel')\n",
    "plt.ylabel('Energy (MeV)')\n",
    "plt.legend(loc=4)\n",
    "props = dict(boxstyle='round', facecolor='blue', alpha=0.1)\n",
    "ax.text(0.05, 0.95, textstr, transform=ax.transAxes, fontsize=10,\n",
    "        verticalalignment='top', bbox=props)\n",
    "plt.savefig(\"channel_cab_hpge.png\",dpi=500)\n",
    "plt.show()"
   ]
  },
  {
   "cell_type": "code",
   "execution_count": 7,
   "metadata": {},
   "outputs": [],
   "source": [
    "canal=np.arange(1,8191,1,dtype=int)\n",
    "# generate energy vector\n",
    "Energy=trans_ca(canal)"
   ]
  },
  {
   "cell_type": "code",
   "execution_count": 8,
   "outputs": [
    {
     "data": {
      "text/plain": "array([   1,    2,    3, ..., 8188, 8189, 8190])"
     },
     "execution_count": 8,
     "metadata": {},
     "output_type": "execute_result"
    }
   ],
   "source": [
    "canal"
   ],
   "metadata": {
    "collapsed": false,
    "pycharm": {
     "name": "#%%\n"
    }
   }
  },
  {
   "cell_type": "code",
   "execution_count": 9,
   "outputs": [],
   "source": [
    "# generate a zero matrix to save the counts in each photopeak\n",
    "areas=np.zeros((7,5))\n",
    "a_am=np.array([area(am_e_n[clave],Energy,223-20,223+20) for clave in am_e_n])\n",
    "a_eu1=np.array([area(eu_e_n[clave],Energy,444,473) for clave in eu_e_n])\n",
    "a_eu2=np.array([area(eu_e_n[clave],Energy,921-20,921+20) for clave in eu_e_n])\n",
    "a_eu3=np.array([area(eu_e_n[clave],Energy,1297-20,1297+20) for clave in eu_e_n])\n",
    "a_cs=np.array([area(cs_e_n[clave],Energy,2492-20,2492+20) for clave in cs_e_n])\n",
    "a_co1=np.array([area(co_e_n[clave],Energy,4000,4500) for clave in co_e_n])\n",
    "a_co2=np.array([area(co_e_n[clave],Energy,4700,5250) for clave in co_e_n])\n",
    "areas[0,:]=a_am\n",
    "areas[1,:]=a_eu1\n",
    "areas[2,:]=a_eu2\n",
    "areas[3,:]=a_eu3\n",
    "areas[4,:]=a_cs\n",
    "areas[5,:]=a_co1\n",
    "areas[6,:]=a_co2"
   ],
   "metadata": {
    "collapsed": false,
    "pycharm": {
     "name": "#%%\n"
    }
   }
  },
  {
   "cell_type": "code",
   "execution_count": 10,
   "metadata": {},
   "outputs": [
    {
     "data": {
      "text/plain": "array([[8.88846361e-01, 1.04028385e-01, 3.80615756e-02, 1.85403600e-02,\n        7.25182872e-03],\n       [2.95867571e-01, 5.24590345e-02, 1.93661850e-02, 5.86205168e-03,\n        3.91494391e-03],\n       [4.02518328e-02, 7.67456284e-03, 3.04142705e-03, 9.70647860e-04,\n        6.68256124e-04],\n       [1.05154524e-01, 1.34296803e-02, 4.90359807e-03, 1.51201386e-03,\n        1.02027093e-03],\n       [4.85642305e-02, 5.42681063e-03, 1.92582759e-03, 5.79401767e-04,\n        3.87788295e-04],\n       [1.33962059e-01, 1.62418443e-02, 6.01531670e-03, 1.79853283e-03,\n        1.19821875e-03],\n       [6.33041768e-02, 6.79140829e-03, 2.48141102e-03, 7.36014238e-04,\n        5.07505332e-04]])"
     },
     "execution_count": 10,
     "metadata": {},
     "output_type": "execute_result"
    }
   ],
   "source": [
    "areas"
   ]
  },
  {
   "cell_type": "code",
   "execution_count": 11,
   "outputs": [],
   "source": [
    "# create a vector of energies which are used for calibration\n",
    "energia_=np.array([0.0595,0.121,0.244,0.344,0.662,1.17,1.33])#MeV"
   ],
   "metadata": {
    "collapsed": false,
    "pycharm": {
     "name": "#%%\n"
    }
   }
  },
  {
   "cell_type": "code",
   "execution_count": 12,
   "metadata": {},
   "outputs": [],
   "source": [
    "# add the probability of emission in each decay\n",
    "actf=np.array([37210.71,29118.16,8291.76,20030.49])\n",
    "am_t=actf[0]*0.357\n",
    "eu_t=actf[1]*0.2831\n",
    "eu_t_1=actf[1]*0.0749\n",
    "eu_t_2=actf[1]*0.266\n",
    "cs_t=actf[2]*0.851\n",
    "co_t_1=actf[3]*0.9988\n",
    "co_t_2=actf[3]*1\n",
    "# create a vector of each activity\n",
    "cuentas_t=[]\n",
    "cuentas_t.append(am_t)\n",
    "cuentas_t.append(eu_t)\n",
    "cuentas_t.append(eu_t_1)\n",
    "cuentas_t.append(eu_t_2)\n",
    "cuentas_t.append(cs_t)\n",
    "cuentas_t.append(co_t_1)\n",
    "cuentas_t.append(co_t_2)"
   ]
  },
  {
   "cell_type": "code",
   "execution_count": 13,
   "outputs": [],
   "source": [
    "# determinate the new activity for Co-60 at 05-March-2020\n",
    "inv=rd.Inventory({'Co-60':20030.49}, 'Bq')\n",
    "ac_cof=inv.decay(131, 'd')\n",
    "# the result is 19107.73"
   ],
   "metadata": {
    "collapsed": false,
    "pycharm": {
     "name": "#%%\n"
    }
   }
  },
  {
   "cell_type": "code",
   "execution_count": 14,
   "metadata": {},
   "outputs": [],
   "source": [
    "eficiencia=np.zeros((7,5))\n",
    "# determinate FEPE\n",
    "for i in range(7):\n",
    "    for j in range(5):\n",
    "        eficiencia[i,j]=(areas[i,j]/cuentas_t[i])*100"
   ]
  },
  {
   "cell_type": "code",
   "execution_count": 15,
   "outputs": [
    {
     "data": {
      "text/plain": "array([[8.88846361e-01, 1.04028385e-01, 3.80615756e-02, 1.85403600e-02,\n        7.25182872e-03],\n       [2.95867571e-01, 5.24590345e-02, 1.93661850e-02, 5.86205168e-03,\n        3.91494391e-03],\n       [4.02518328e-02, 7.67456284e-03, 3.04142705e-03, 9.70647860e-04,\n        6.68256124e-04],\n       [1.05154524e-01, 1.34296803e-02, 4.90359807e-03, 1.51201386e-03,\n        1.02027093e-03],\n       [4.85642305e-02, 5.42681063e-03, 1.92582759e-03, 5.79401767e-04,\n        3.87788295e-04],\n       [1.33962059e-01, 1.62418443e-02, 6.01531670e-03, 1.79853283e-03,\n        1.19821875e-03],\n       [6.33041768e-02, 6.79140829e-03, 2.48141102e-03, 7.36014238e-04,\n        5.07505332e-04]])"
     },
     "execution_count": 15,
     "metadata": {},
     "output_type": "execute_result"
    }
   ],
   "source": [
    "areas"
   ],
   "metadata": {
    "collapsed": false,
    "pycharm": {
     "name": "#%%\n"
    }
   }
  },
  {
   "cell_type": "code",
   "execution_count": 16,
   "outputs": [
    {
     "data": {
      "text/plain": "<Figure size 432x288 with 1 Axes>",
      "image/png": "[encoded data removed]"
     },
     "metadata": {
      "needs_background": "light"
     },
     "output_type": "display_data"
    }
   ],
   "source": [
    "plt.plot(energia_,eficiencia[:,0],'o-', label='0 cm')\n",
    "plt.plot(energia_,eficiencia[:,1], 'o-', label='5 cm')\n",
    "plt.plot(energia_,eficiencia[:,2], 'o-', label='10 cm')\n",
    "plt.plot(energia_,eficiencia[:,3], 'o-', label='20 cm')\n",
    "plt.plot(energia_,eficiencia[:,4], 'o-', label='25 cm')\n",
    "plt.xlabel(\"Energy (MeV)\")\n",
    "plt.ylabel(\"FEPE (%)\")\n",
    "plt.grid()\n",
    "plt.legend()\n",
    "plt.yscale('log')\n",
    "plt.savefig('exp_cab_ener.png',dpi=500)"
   ],
   "metadata": {
    "collapsed": false,
    "pycharm": {
     "name": "#%%\n"
    }
   }
  },
  {
   "cell_type": "code",
   "execution_count": 17,
   "metadata": {},
   "outputs": [],
   "source": [
    "# load experimetal data\n",
    "am_s={'0cm':np.loadtxt('./s_results/'+'HPGeDetector_am_pos1.dat'),\n",
    "      '5cm':np.loadtxt('./s_results/'+'HPGeDetector_am_pos2.dat'),\n",
    "      '10cm':np.loadtxt('./s_results/'+'HPGeDetector_am_pos3.dat'),\n",
    "      '20cm':np.loadtxt('./s_results/'+'HPGeDetector_am_pos5.dat'),\n",
    "      '25cm':np.loadtxt('./s_results/'+'HPGeDetector_am_pos6.dat')\n",
    "      }\n",
    "co_s={'0cm':np.loadtxt('./s_results/'+'HPGeDetector_co_pos1.dat'),\n",
    "      '5cm':np.loadtxt('./s_results/'+'HPGeDetector_co_pos2.dat'),\n",
    "      '10cm':np.loadtxt('./s_results/'+'HPGeDetector_co_pos3.dat'),\n",
    "      '20cm':np.loadtxt('./s_results/'+'HPGeDetector_co_pos5.dat'),\n",
    "      '25cm':np.loadtxt('./s_results/'+'HPGeDetector_co_pos6.dat')\n",
    "      }\n",
    "cs_s={'0cm':np.loadtxt('./s_results/'+'HPGeDetector_cs_pos1.dat'),\n",
    "      '5cm':np.loadtxt('./s_results/'+'HPGeDetector_cs_pos2.dat'),\n",
    "      '10cm':np.loadtxt('./s_results/'+'HPGeDetector_cs_pos3.dat'),\n",
    "      '20cm':np.loadtxt('./s_results/'+'HPGeDetector_cs_pos5.dat'),\n",
    "      '25cm':np.loadtxt('./s_results/'+'HPGeDetector_cs_pos6.dat')\n",
    "      }\n",
    "eu_s1={'0cm':np.loadtxt('./s_results/'+'HPGeDetector_eu1_pos1.dat'),\n",
    "      '5cm':np.loadtxt('./s_results/'+'HPGeDetector_eu1_pos2.dat'),\n",
    "      '10cm':np.loadtxt('./s_results/'+'HPGeDetector_eu1_pos3.dat'),\n",
    "      '20cm':np.loadtxt('./s_results/'+'HPGeDetector_eu1_pos5.dat'),\n",
    "      '25cm':np.loadtxt('./s_results/'+'HPGeDetector_eu1_pos6.dat')\n",
    "      }\n",
    "eu_s2={'0cm':np.loadtxt('./s_results/'+'HPGeDetector_eu2_pos1.dat'),\n",
    "      '5cm':np.loadtxt('./s_results/'+'HPGeDetector_eu2_pos2.dat'),\n",
    "      '10cm':np.loadtxt('./s_results/'+'HPGeDetector_eu2_pos3.dat'),\n",
    "      '20cm':np.loadtxt('./s_results/'+'HPGeDetector_eu2_pos5.dat'),\n",
    "      '25cm':np.loadtxt('./s_results/'+'HPGeDetector_eu2_pos6.dat')\n",
    "      }\n",
    "eu_s3={'0cm':np.loadtxt('./s_results/'+'HPGeDetector_eu3_pos1.dat'),\n",
    "      '5cm':np.loadtxt('./s_results/'+'HPGeDetector_eu3_pos2.dat'),\n",
    "      '10cm':np.loadtxt('./s_results/'+'HPGeDetector_eu3_pos3.dat'),\n",
    "      '20cm':np.loadtxt('./s_results/'+'HPGeDetector_eu3_pos5.dat'),\n",
    "      '25cm':np.loadtxt('./s_results/'+'HPGeDetector_eu3_pos6.dat')\n",
    "      }"
   ]
  },
  {
   "cell_type": "code",
   "execution_count": 18,
   "metadata": {},
   "outputs": [],
   "source": [
    "# create a energy_vector transfor with just 1 element to use the function spec_hist\n",
    "Energy_=trans_ca(np.arange(1,8192,1))"
   ]
  },
  {
   "cell_type": "code",
   "execution_count": 19,
   "metadata": {},
   "outputs": [],
   "source": [
    "# create an empty dictionary to save the simulated transform spectra\n",
    "am_s_t={}\n",
    "cs_s_t={}\n",
    "co_s_t={}\n",
    "eu1_s_t={}\n",
    "eu2_s_t={}\n",
    "eu3_s_t={}\n",
    "for clave in claves:\n",
    "    am_s_t[clave]=spec_hist(am_s[clave],Energy_)\n",
    "    cs_s_t[clave]=spec_hist(cs_s[clave],Energy_)\n",
    "    co_s_t[clave]=spec_hist(co_s[clave],Energy_)\n",
    "    eu1_s_t[clave]=spec_hist(eu_s1[clave],Energy_)\n",
    "    eu2_s_t[clave]=spec_hist(eu_s2[clave],Energy_)\n",
    "    eu3_s_t[clave]=spec_hist(eu_s3[clave],Energy_)"
   ]
  },
  {
   "cell_type": "code",
   "execution_count": 20,
   "metadata": {},
   "outputs": [],
   "source": [
    "# scale simulated spectra to activity of each radioactive source\n",
    "cuentas_t\n",
    "# create dictionaries to save spectra with activity correction\n",
    "am_s_a={}\n",
    "cs_s_a={}\n",
    "co_s_a={}\n",
    "eu1_s_a={}\n",
    "eu2_s_a={}\n",
    "eu3_s_a={}\n",
    "for clave in claves:\n",
    "    am_s_a[clave]=spec_s_act(am_s_t[clave],1e6,cuentas_t[0])\n",
    "    eu1_s_a[clave]=spec_s_act(eu1_s_t[clave],1e6,cuentas_t[1])\n",
    "    eu2_s_a[clave]=spec_s_act(eu2_s_t[clave],1e6,cuentas_t[2])\n",
    "    eu3_s_a[clave]=spec_s_act(eu3_s_t[clave],1e6,cuentas_t[3])\n",
    "    cs_s_a[clave]=spec_s_act(cs_s_t[clave],1e6,cuentas_t[4])\n",
    "    co_s_a[clave]=spec_s_act(co_s_t[clave],1e6,cuentas_t[5])"
   ]
  },
  {
   "cell_type": "code",
   "execution_count": 21,
   "metadata": {},
   "outputs": [],
   "source": [
    "# determination of correction factor between each spectrum\n",
    "# extract the maximun of each experimental spectrum\n",
    "m_am=np.array([max(am_e_n[clave]) for clave in claves ])\n",
    "m_eu1=np.array([max(eu_e_n[clave][300:500]) for clave in claves ])\n",
    "m_eu2=np.array([max(eu_e_n[clave][750:1000]) for clave in claves ])\n",
    "m_eu3=np.array([max(eu_e_n[clave][1250:1400]) for clave in claves ])\n",
    "m_cs=np.array([max(cs_e_n[clave][2000:3000]) for clave in claves ])\n",
    "m_co1=np.array([max(co_e_n[clave][4000:4500]) for clave in claves ])\n",
    "m_co2=np.array([max(co_e_n[clave][4700:5250]) for clave in claves ])\n"
   ]
  },
  {
   "cell_type": "code",
   "execution_count": 22,
   "metadata": {},
   "outputs": [],
   "source": [
    "# extract the maximun of each simulated spectrum\n",
    "m_am_s=np.array([max(am_s_a[clave][1]) for clave in claves ])\n",
    "m_eu1_s=np.array([max(eu1_s_a[clave][1][300:500]) for clave in claves ])\n",
    "m_eu2_s=np.array([max(eu2_s_a[clave][1][750:1000]) for clave in claves ])\n",
    "m_eu3_s=np.array([max(eu3_s_a[clave][1][1250:1400]) for clave in claves ])\n",
    "m_cs_s=np.array([max(cs_s_a[clave][1][2000:3000]) for clave in claves ])\n",
    "m_co1_s=np.array([max(co_s_a[clave][1][4200:4500]) for clave in claves ])\n",
    "m_co2_s=np.array([max(co_s_a[clave][1][4700:5250]) for clave in claves ])"
   ]
  },
  {
   "cell_type": "code",
   "execution_count": 23,
   "metadata": {},
   "outputs": [],
   "source": [
    "# verify the maximum of each spectrum\n",
    "f_am=m_am_s/m_am\n",
    "f_eu1=m_eu1_s/m_eu1\n",
    "f_eu2=m_eu2_s/m_eu2\n",
    "f_eu3=m_eu3_s/m_eu3\n",
    "f_cs=m_cs_s/m_cs\n",
    "f_co1=m_co1_s/m_co1\n",
    "f_co2=m_co2_s/m_co2"
   ]
  },
  {
   "cell_type": "code",
   "execution_count": 24,
   "metadata": {},
   "outputs": [
    {
     "name": "stdout",
     "output_type": "stream",
     "text": [
      "[2576.81384915  282.92005297   90.88294583   26.33750675   17.2780639 ] [278.15805556  50.05763889  18.22694444   5.47583333   3.65986111]\n"
     ]
    }
   ],
   "source": [
    "print(m_eu1_s,m_eu1)\n"
   ]
  },
  {
   "cell_type": "code",
   "execution_count": 25,
   "metadata": {},
   "outputs": [],
   "source": [
    "factores=pd.DataFrame(index=['Am-241 59.5 keV','Eu-152 121 keV','Eu-152 244 keV',\n",
    "                             'Eu-152 344 keV','Cs-137 662 keV','Co-60 1173 keV','Co-60 1332 keV'], \n",
    "                      columns=['0 cm', '5 cm', '10 cm',  '20 cm', '25 cm'])\n",
    "factores.iloc[0,:]=f_am\n",
    "factores.iloc[1,:]=f_eu1\n",
    "factores.iloc[2,:]=f_eu2\n",
    "factores.iloc[3,:]=f_eu3\n",
    "factores.iloc[4,:]=f_cs\n",
    "factores.iloc[5,:]=f_co1\n",
    "factores.iloc[6,:]=f_co2"
   ]
  },
  {
   "cell_type": "code",
   "execution_count": 26,
   "outputs": [],
   "source": [
    "# generate the mean\n",
    "factores['Mean']=factores.mean(axis='columns')"
   ],
   "metadata": {
    "collapsed": false,
    "pycharm": {
     "name": "#%%\n"
    }
   }
  },
  {
   "cell_type": "code",
   "execution_count": 27,
   "metadata": {},
   "outputs": [],
   "source": [
    "factores['Standard deviation']=factores.std(axis='columns')"
   ]
  },
  {
   "cell_type": "code",
   "execution_count": 28,
   "metadata": {},
   "outputs": [
    {
     "data": {
      "text/plain": "                      0 cm      5 cm     10 cm     20 cm     25 cm      Mean  \\\nAm-241 59.5 keV   5.140521  5.181251  4.348695  2.457052  4.147093  4.254922   \nEu-152 121 keV    9.263848  5.651886  4.986187  4.809771  4.720962  5.886531   \nEu-152 244 keV   13.930196  6.681265  6.016515  5.665935  5.598074  7.578397   \nEu-152 344 keV    9.680531  7.442181  6.695973  6.613153  6.248767  7.336121   \nCs-137 662 keV    9.608262  8.269331  7.791589  7.550638  7.662434  8.176451   \n\n                 Standard deviation  \nAm-241 59.5 keV            0.989457  \nEu-152 121 keV             1.719878  \nEu-152 244 keV             3.199027  \nEu-152 344 keV             1.234692  \nCs-137 662 keV             0.756661  ",
      "text/html": "<div>\n<style scoped>\n    .dataframe tbody tr th:only-of-type {\n        vertical-align: middle;\n    }\n\n    .dataframe tbody tr th {\n        vertical-align: top;\n    }\n\n    .dataframe thead th {\n        text-align: right;\n    }\n</style>\n<table border=\"1\" class=\"dataframe\">\n  <thead>\n    <tr style=\"text-align: right;\">\n      <th></th>\n      <th>0 cm</th>\n      <th>5 cm</th>\n      <th>10 cm</th>\n      <th>20 cm</th>\n      <th>25 cm</th>\n      <th>Mean</th>\n      <th>Standard deviation</th>\n    </tr>\n  </thead>\n  <tbody>\n    <tr>\n      <th>Am-241 59.5 keV</th>\n      <td>5.140521</td>\n      <td>5.181251</td>\n      <td>4.348695</td>\n      <td>2.457052</td>\n      <td>4.147093</td>\n      <td>4.254922</td>\n      <td>0.989457</td>\n    </tr>\n    <tr>\n      <th>Eu-152 121 keV</th>\n      <td>9.263848</td>\n      <td>5.651886</td>\n      <td>4.986187</td>\n      <td>4.809771</td>\n      <td>4.720962</td>\n      <td>5.886531</td>\n      <td>1.719878</td>\n    </tr>\n    <tr>\n      <th>Eu-152 244 keV</th>\n      <td>13.930196</td>\n      <td>6.681265</td>\n      <td>6.016515</td>\n      <td>5.665935</td>\n      <td>5.598074</td>\n      <td>7.578397</td>\n      <td>3.199027</td>\n    </tr>\n    <tr>\n      <th>Eu-152 344 keV</th>\n      <td>9.680531</td>\n      <td>7.442181</td>\n      <td>6.695973</td>\n      <td>6.613153</td>\n      <td>6.248767</td>\n      <td>7.336121</td>\n      <td>1.234692</td>\n    </tr>\n    <tr>\n      <th>Cs-137 662 keV</th>\n      <td>9.608262</td>\n      <td>8.269331</td>\n      <td>7.791589</td>\n      <td>7.550638</td>\n      <td>7.662434</td>\n      <td>8.176451</td>\n      <td>0.756661</td>\n    </tr>\n  </tbody>\n</table>\n</div>"
     },
     "execution_count": 28,
     "metadata": {},
     "output_type": "execute_result"
    }
   ],
   "source": [
    "factores.head()"
   ]
  },
  {
   "cell_type": "code",
   "execution_count": 29,
   "metadata": {},
   "outputs": [],
   "source": [
    "# scale the simulated spetra with mean correction factor\n",
    "# create dictionaries to save spectra with activity correction\n",
    "am_s_s={}\n",
    "cs_s_s={}\n",
    "co_s_s={}\n",
    "eu1_s_s={}\n",
    "eu2_s_s={}\n",
    "eu3_s_s={}\n",
    "for clave in claves:\n",
    "    am_s_s[clave]=spec_s_f(am_s_a[clave],factores.iloc[0,5])\n",
    "    eu1_s_s[clave]=spec_s_f(eu1_s_a[clave],factores.iloc[1,5])\n",
    "    eu2_s_s[clave]=spec_s_f(eu2_s_a[clave],factores.iloc[2,5])\n",
    "    eu3_s_s[clave]=spec_s_f(eu3_s_a[clave],factores.iloc[3,5])\n",
    "    cs_s_s[clave]=spec_s_f(cs_s_a[clave],factores.iloc[4,5])\n",
    "    co_s_s[clave]=spec_s_f(co_s_a[clave],factores.iloc[5,5])"
   ]
  },
  {
   "cell_type": "code",
   "execution_count": 30,
   "outputs": [],
   "source": [
    "# determinate the maximum of expertimental spectra and simulated spectra through\n",
    "# ratio among max photo peaks\n",
    "# the maximum of experimental spectra\n",
    "m_am_e=np.array([max_peak(am_e_n[clave],223-20,223+20) for clave in am_e_n])\n",
    "m_eu1_e=np.array([max_peak(eu_e_n[clave],444,473) for clave in eu_e_n])\n",
    "m_eu2_e=np.array([max_peak(eu_e_n[clave],921-20,921+20) for clave in eu_e_n])\n",
    "m_eu3_e=np.array([max_peak(eu_e_n[clave],1297-20,1297+20) for clave in eu_e_n])\n",
    "m_cs_e=np.array([max_peak(cs_e_n[clave],2492-20,2492+20) for clave in cs_e_n])\n",
    "m_co1_e=np.array([max_peak(co_e_n[clave],4000,4500) for clave in co_e_n])\n",
    "m_co2_e=np.array([max_peak(co_e_n[clave],4700,5250) for clave in co_e_n])\n",
    "\n",
    "# the maximum of simulated spectra\n",
    "m_am_s=np.array([max_peak(am_s_s[clave][1],223-20,223+20) for clave in am_s_s])\n",
    "m_eu1_s=np.array([max_peak(eu1_s_s[clave][1],444,473) for clave in eu1_s_s])\n",
    "m_eu2_s=np.array([max_peak(eu2_s_s[clave][1],921-20,921+20) for clave in eu2_s_s])\n",
    "m_eu3_s=np.array([max_peak(eu3_s_s[clave][1],1297-20,1297+20) for clave in eu3_s_s])\n",
    "m_cs_s=np.array([max_peak(cs_s_s[clave][1],2492-20,2492+20) for clave in cs_s_s])\n",
    "m_co1_s=np.array([max_peak(co_s_s[clave][1],4000,4500) for clave in co_s_s])\n",
    "m_co2_s=np.array([max_peak(co_s_s[clave][1],4700,5250) for clave in co_s_s])"
   ],
   "metadata": {
    "collapsed": false,
    "pycharm": {
     "name": "#%%\n"
    }
   }
  },
  {
   "cell_type": "code",
   "execution_count": 31,
   "outputs": [
    {
     "data": {
      "text/plain": "array([[1.05447125e+03, 1.26253939e+02, 3.92883003e+01, 1.08648510e+01,\n        7.13083899e+00],\n       [4.37747465e+02, 4.80622751e+01, 1.54391359e+01, 4.47419856e+00,\n        2.93518629e+00],\n       [4.51900393e+01, 4.57952514e+00, 1.50885756e+00, 4.39447929e-01,\n        2.96706493e-01],\n       [1.04078033e+02, 1.02095252e+01, 3.31730385e+00, 9.73441805e-01,\n        6.29253054e-01],\n       [3.76622404e+01, 3.58835947e+00, 1.17713379e+00, 3.52967538e-01,\n        2.38188363e-01],\n       [3.39449191e+01, 3.65585169e+00, 1.30591411e+00, 4.05222670e-01,\n        3.00820323e-01],\n       [2.99847081e+01, 3.18338683e+00, 1.09887894e+00, 2.91972666e-01,\n        1.82261725e-01]])"
     },
     "execution_count": 31,
     "metadata": {},
     "output_type": "execute_result"
    }
   ],
   "source": [
    "# matrix of experimental max photopeaks values\n",
    "m_e=np.zeros((7,5))\n",
    "m_e[0,:]=m_am_e\n",
    "m_e[1,:]=m_eu1_e\n",
    "m_e[2,:]=m_eu2_e\n",
    "m_e[3,:]=m_eu3_e\n",
    "m_e[4,:]=m_cs_e\n",
    "m_e[5,:]=m_co1_e\n",
    "m_e[6,:]=m_co2_e\n",
    "\n",
    "# matrix of experimental max photopeaks values\n",
    "m_s=np.zeros((7,5))\n",
    "m_s[0,:]=m_am_s\n",
    "m_s[1,:]=m_eu1_s\n",
    "m_s[2,:]=m_eu2_s\n",
    "m_s[3,:]=m_eu3_s\n",
    "m_s[4,:]=m_cs_s\n",
    "m_s[5,:]=m_co1_s\n",
    "m_s[6,:]=m_co2_s\n",
    "m_s"
   ],
   "metadata": {
    "collapsed": false,
    "pycharm": {
     "name": "#%%\n"
    }
   }
  },
  {
   "cell_type": "code",
   "execution_count": 32,
   "metadata": {},
   "outputs": [],
   "source": [
    "# estimate the error between simulated and experimental FEPE\n",
    "error=np.zeros((7,5))\n",
    "# determinate FEPE simulated\n",
    "error= np.absolute(m_s-m_e)\n",
    "error=error/m_e*100"
   ]
  },
  {
   "cell_type": "code",
   "execution_count": 33,
   "metadata": {},
   "outputs": [
    {
     "data": {
      "text/plain": "<matplotlib.legend.Legend at 0x1bfdb43e910>"
     },
     "execution_count": 33,
     "metadata": {},
     "output_type": "execute_result"
    },
    {
     "data": {
      "text/plain": "<Figure size 432x288 with 1 Axes>",
      "image/png": "[encoded data removed]"
     },
     "metadata": {
      "needs_background": "light"
     },
     "output_type": "display_data"
    }
   ],
   "source": [
    "plt.plot(canal,co_e_n['25cm'], 'xg',label='Exp')\n",
    "plt.plot(canal,co_s_s['25cm'][1],'ob', label='Sim')\n",
    "plt.xlim(4420-20,4420+20)\n",
    "plt.legend()"
   ]
  },
  {
   "cell_type": "code",
   "execution_count": 34,
   "outputs": [
    {
     "data": {
      "text/plain": "<Figure size 432x360 with 1 Axes>",
      "image/png": "[encoded data removed]"
     },
     "metadata": {
      "needs_background": "light"
     },
     "output_type": "display_data"
    }
   ],
   "source": [
    "#plot the experimental, simulated with activity correction, and activity-factor correction\n",
    "fig3=plt.figure(figsize=(6,5))\n",
    "plt.plot(Energy, cs_e_n['5cm'], 'xr',label='Experimental')\n",
    "plt.plot(cs_s_a['5cm'][0], cs_s_a['5cm'][1], '-b',label='Simulated with activity correction')\n",
    "plt.plot(cs_s_s['5cm'][0], cs_s_s['5cm'][1], 'sg',label='Simulated with activity-factor correction')\n",
    "plt.grid()\n",
    "plt.ylabel('Net count rate (counts/s)')\n",
    "plt.xlabel('Energy (MeV)')\n",
    "plt.xlim(0.5,0.7)\n",
    "#plt.yscale('log')\n",
    "plt.legend(loc='center left')\n",
    "plt.savefig('spectras_com.png', dpi=500)"
   ],
   "metadata": {
    "collapsed": false,
    "pycharm": {
     "name": "#%%\n"
    }
   }
  },
  {
   "cell_type": "code",
   "execution_count": 35,
   "outputs": [
    {
     "data": {
      "text/plain": "                      0 cm       5 cm      10 cm      20 cm      25 cm\nAm-241 59.5 keV  20.813514  21.770746   2.203862  42.253887   2.534236\nEu-152 121 keV   57.373643   3.986132  15.294986  18.291915  19.800610\nEu-152 244 keV   83.814542  11.838019  20.609658  25.235702  26.131164\nEu-152 344 keV   31.957082   1.445718   8.725972   9.854907  14.821922\nCs-137 662 keV   17.511400   1.135944   4.706956   7.653842   6.286546\nCo-60 1173 keV    5.672428   3.387293   7.545904   2.388651   7.649420\nCo-60 1332 keV   15.774799   3.824901   4.491449  13.985139  20.080121",
      "text/html": "<div>\n<style scoped>\n    .dataframe tbody tr th:only-of-type {\n        vertical-align: middle;\n    }\n\n    .dataframe tbody tr th {\n        vertical-align: top;\n    }\n\n    .dataframe thead th {\n        text-align: right;\n    }\n</style>\n<table border=\"1\" class=\"dataframe\">\n  <thead>\n    <tr style=\"text-align: right;\">\n      <th></th>\n      <th>0 cm</th>\n      <th>5 cm</th>\n      <th>10 cm</th>\n      <th>20 cm</th>\n      <th>25 cm</th>\n    </tr>\n  </thead>\n  <tbody>\n    <tr>\n      <th>Am-241 59.5 keV</th>\n      <td>20.813514</td>\n      <td>21.770746</td>\n      <td>2.203862</td>\n      <td>42.253887</td>\n      <td>2.534236</td>\n    </tr>\n    <tr>\n      <th>Eu-152 121 keV</th>\n      <td>57.373643</td>\n      <td>3.986132</td>\n      <td>15.294986</td>\n      <td>18.291915</td>\n      <td>19.800610</td>\n    </tr>\n    <tr>\n      <th>Eu-152 244 keV</th>\n      <td>83.814542</td>\n      <td>11.838019</td>\n      <td>20.609658</td>\n      <td>25.235702</td>\n      <td>26.131164</td>\n    </tr>\n    <tr>\n      <th>Eu-152 344 keV</th>\n      <td>31.957082</td>\n      <td>1.445718</td>\n      <td>8.725972</td>\n      <td>9.854907</td>\n      <td>14.821922</td>\n    </tr>\n    <tr>\n      <th>Cs-137 662 keV</th>\n      <td>17.511400</td>\n      <td>1.135944</td>\n      <td>4.706956</td>\n      <td>7.653842</td>\n      <td>6.286546</td>\n    </tr>\n    <tr>\n      <th>Co-60 1173 keV</th>\n      <td>5.672428</td>\n      <td>3.387293</td>\n      <td>7.545904</td>\n      <td>2.388651</td>\n      <td>7.649420</td>\n    </tr>\n    <tr>\n      <th>Co-60 1332 keV</th>\n      <td>15.774799</td>\n      <td>3.824901</td>\n      <td>4.491449</td>\n      <td>13.985139</td>\n      <td>20.080121</td>\n    </tr>\n  </tbody>\n</table>\n</div>"
     },
     "execution_count": 35,
     "metadata": {},
     "output_type": "execute_result"
    }
   ],
   "source": [
    "d_error=pd.DataFrame(error,index=['Am-241 59.5 keV','Eu-152 121 keV','Eu-152 244 keV',\n",
    "                             'Eu-152 344 keV','Cs-137 662 keV','Co-60 1173 keV','Co-60 1332 keV'],\n",
    "                      columns=['0 cm', '5 cm', '10 cm','20 cm', '25 cm'])\n",
    "d_error"
   ],
   "metadata": {
    "collapsed": false,
    "pycharm": {
     "name": "#%%\n"
    }
   }
  },
  {
   "cell_type": "code",
   "execution_count": 36,
   "outputs": [
    {
     "data": {
      "text/plain": "<Figure size 432x288 with 1 Axes>",
      "image/png": "[encoded data removed]"
     },
     "metadata": {
      "needs_background": "light"
     },
     "output_type": "display_data"
    }
   ],
   "source": [
    "plt.plot(energia_,factores['Mean'], 'o-c')\n",
    "plt.xlabel('Energy (MeV)')\n",
    "plt.ylabel('Correction factor (adimentional)')\n",
    "plt.grid()\n",
    "plt.savefig('correction_f_r.jpg', dpi=500)\n",
    "\n"
   ],
   "metadata": {
    "collapsed": false,
    "pycharm": {
     "name": "#%%\n"
    }
   }
  }
 ],
 "metadata": {
  "kernelspec": {
   "display_name": "Python 3 (ipykernel)",
   "language": "python",
   "name": "python3"
  },
  "language_info": {
   "codemirror_mode": {
    "name": "ipython",
    "version": 3
   },
   "file_extension": ".py",
   "mimetype": "text/x-python",
   "name": "python",
   "nbconvert_exporter": "python",
   "pygments_lexer": "ipython3",
   "version": "3.9.7"
  }
 },
 "nbformat": 4,
 "nbformat_minor": 4
}